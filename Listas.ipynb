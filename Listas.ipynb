{
 "cells": [
  {
   "cell_type": "markdown",
   "metadata": {},
   "source": [
    "# Listas"
   ]
  },
  {
   "cell_type": "code",
   "execution_count": 9,
   "metadata": {},
   "outputs": [
    {
     "name": "stdout",
     "output_type": "stream",
     "text": [
      "The first planet is Mercury\n",
      "The second planet is Venus\n",
      "The third planet is Earth\n",
      "Mars is also known as Red Planet\n",
      "There are 8 planets in the solar system.\n",
      "There are actually 9 planets in the solar system.\n",
      "No, there are definitely 8 planets in the solar system.\n",
      "The last planet is Neptune\n",
      "The penultimate planet is Uranus\n",
      "Jupiter is the 5 planet from the sun\n"
     ]
    }
   ],
   "source": [
    "# Crear una lista\n",
    "\n",
    "planets = ['Mercury', 'Venus', 'Earth', 'Mars', 'Jupiter', 'Saturn', 'Uranus', 'Neptune']\n",
    "\n",
    "# Acceder a las listas\n",
    "\n",
    "print('The first planet is', planets[0])\n",
    "print('The second planet is', planets[1])\n",
    "print('The third planet is', planets[2])\n",
    "\n",
    "# Asignar un nuevo valor a un dato de la lista\n",
    "\n",
    "planets[3] = 'Red Planet'\n",
    "print('Mars is also known as', planets[3])\n",
    "\n",
    "# Determinar la longitud de las listas\n",
    "\n",
    "number_of_planets = len(planets)\n",
    "print('There are', number_of_planets, 'planets in the solar system.')\n",
    "\n",
    "# Agregar valores a las listas\n",
    "\n",
    "planets.append('Pluto')\n",
    "number_of_planets = len(planets)\n",
    "print('There are actually', number_of_planets, 'planets in the solar system.')\n",
    "\n",
    "#Eliminar valores de una lista\n",
    "\n",
    "planets.pop()  # .pop() elimina el ultivo valor de la lista\n",
    "number_of_planets = len(planets)\n",
    "print('No, there are definitely', number_of_planets, 'planets in the solar system.')\n",
    "\n",
    "#Indices negativos\n",
    "# Al colocar indices negativos lee los valores del ultimo al primero\n",
    "print('The last planet is', planets[-1])\n",
    "print('The penultimate planet is', planets[-2])\n",
    "\n",
    "#Buscar valores\n",
    "jupiter_index = planets.index('Jupiter')\n",
    "print('Jupiter is the', jupiter_index + 1, 'planet from the sun')"
   ]
  },
  {
   "cell_type": "markdown",
   "metadata": {},
   "source": [
    "<h3> Usar otro tipo de datos </h3>"
   ]
  },
  {
   "cell_type": "code",
   "execution_count": 11,
   "metadata": {},
   "outputs": [
    {
     "name": "stdout",
     "output_type": "stream",
     "text": [
      "On Earth, a double-decker bus weighs 12650 kg\n",
      "On Mercury, a double-decker bus weighs 4781.7 kg\n",
      "On Earth, a double-decker bus weighs 12650 kg\n",
      "The lightest a bus would be in the solar system is 4781.7 kg\n",
      "The heaviest a bus would be in the solar system is 29854.0 kg\n"
     ]
    }
   ],
   "source": [
    "# Usando floats\n",
    "gravity_on_planets = [0.378, 0.907, 1, 0.379, 2.36, 0.916, 0.889, 1.12]\n",
    "\n",
    "# Multiplicar valor de una lista\n",
    "\n",
    "bus_weight = 12650\n",
    "print('On Earth, a double-decker bus weighs', bus_weight, 'kg')\n",
    "print('On Mercury, a double-decker bus weighs', bus_weight * gravity_on_planets[0], 'kg')\n",
    "\n",
    "# Metodos min() y max() para encontrar los valores minimos y maximos\n",
    "bus_weight = 12650\n",
    "print('On Earth, a double-decker bus weighs', bus_weight, 'kg')\n",
    "print('The lightest a bus would be in the solar system is', bus_weight * min(gravity_on_planets), 'kg')\n",
    "print('The heaviest a bus would be in the solar system is', bus_weight * max(gravity_on_planets), 'kg')"
   ]
  },
  {
   "cell_type": "markdown",
   "metadata": {},
   "source": [
    "<h3> Manipular datos de la lista </h3>"
   ]
  },
  {
   "cell_type": "code",
   "execution_count": 15,
   "metadata": {},
   "outputs": [
    {
     "name": "stdout",
     "output_type": "stream",
     "text": [
      "['Mercury', 'Venus']\n",
      "['Mars', 'Jupiter', 'Saturn', 'Uranus', 'Neptune']\n",
      "['Mars', 'Jupiter', 'Saturn', 'Uranus', 'Neptune']\n",
      "The regular satellite moons of Jupiter are ['Metis', 'Adrastea', 'Amalthea', 'Thebe', 'Io', 'Europa', 'Ganymede', 'Callisto']\n",
      "The regular satellite moons of Jupiter are ['Adrastea', 'Amalthea', 'Callisto', 'Europa', 'Ganymede', 'Io', 'Metis', 'Thebe']\n",
      "The regular satellite moons of Jupiter are ['Thebe', 'Metis', 'Io', 'Ganymede', 'Europa', 'Callisto', 'Amalthea', 'Adrastea']\n"
     ]
    }
   ],
   "source": [
    "# Slice list \n",
    "\n",
    "planets = ['Mercury', 'Venus', 'Earth', 'Mars', 'Jupiter', 'Saturn', 'Uranus', 'Neptune']\n",
    "planets_before_earth = planets[0:2]\n",
    "print(planets_before_earth)\n",
    "\n",
    "planets_after_earth = planets[3:8]\n",
    "print(planets_after_earth) \n",
    "\n",
    "planets_after_earth = planets[3:] #Asume ir al final de la lista\n",
    "print(planets_after_earth)\n",
    "\n",
    "#Unir las listas\n",
    "\n",
    "amalthea_group = ['Metis', 'Adrastea', 'Amalthea', 'Thebe']\n",
    "galilean_moons = ['Io', 'Europa', 'Ganymede', 'Callisto']\n",
    "\n",
    "regular_satellite_moons = amalthea_group + galilean_moons\n",
    "print('The regular satellite moons of Jupiter are', regular_satellite_moons)\n",
    "\n",
    "# Ordenar las listas se usa .sort()\n",
    "regular_satellite_moons.sort()\n",
    "print(\"The regular satellite moons of Jupiter are\", regular_satellite_moons)\n",
    "\n",
    "# Ordenar inversamente con .sort(reverse=True)\n",
    "\n",
    "regular_satellite_moons.sort(reverse=True)\n",
    "print(\"The regular satellite moons of Jupiter are\", regular_satellite_moons)"
   ]
  }
 ],
 "metadata": {
  "interpreter": {
   "hash": "dc59f55dd05835c2c9e13747be2bafad6bf786209b30b918eca7a91614205c67"
  },
  "kernelspec": {
   "display_name": "Python 3.9.6 64-bit",
   "language": "python",
   "name": "python3"
  },
  "language_info": {
   "codemirror_mode": {
    "name": "ipython",
    "version": 3
   },
   "file_extension": ".py",
   "mimetype": "text/x-python",
   "name": "python",
   "nbconvert_exporter": "python",
   "pygments_lexer": "ipython3",
   "version": "3.9.6"
  },
  "orig_nbformat": 4
 },
 "nbformat": 4,
 "nbformat_minor": 2
}
